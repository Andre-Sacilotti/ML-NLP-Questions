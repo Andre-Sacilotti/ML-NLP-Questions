{
 "cells": [
  {
   "cell_type": "markdown",
   "metadata": {},
   "source": [
    "# Classificador de Artistas\n",
    "\n",
    "O objetivo desse desafio é classificar com base no trecho de uma musica, qual artista é o cantor.\n",
    "\n"
   ]
  },
  {
   "cell_type": "code",
   "execution_count": 150,
   "metadata": {},
   "outputs": [],
   "source": [
    "import pandas as pd\n",
    "from matplotlib import pyplot as plt\n",
    "import seaborn as sns\n",
    "import numpy as np\n",
    "from scipy.stats import entropy\n",
    "import nltk\n",
    "from nltk.corpus import stopwords\n",
    "from sklearn.feature_extraction.text import TfidfVectorizer"
   ]
  },
  {
   "cell_type": "code",
   "execution_count": 93,
   "metadata": {},
   "outputs": [
    {
     "name": "stderr",
     "output_type": "stream",
     "text": [
      "[nltk_data] Downloading package stopwords to\n",
      "[nltk_data]     /home/andresacilotti/nltk_data...\n",
      "[nltk_data]   Package stopwords is already up-to-date!\n"
     ]
    },
    {
     "data": {
      "text/plain": [
       "True"
      ]
     },
     "execution_count": 93,
     "metadata": {},
     "output_type": "execute_result"
    }
   ],
   "source": [
    "nltk.download('stopwords')"
   ]
  },
  {
   "cell_type": "markdown",
   "metadata": {},
   "source": [
    "## Extração de dados"
   ]
  },
  {
   "cell_type": "code",
   "execution_count": 6,
   "metadata": {},
   "outputs": [],
   "source": [
    "data = pd.read_excel(\"Data/dataset.xls\", sheet_name='NLP')"
   ]
  },
  {
   "cell_type": "code",
   "execution_count": 7,
   "metadata": {},
   "outputs": [
    {
     "data": {
      "text/html": [
       "<div>\n",
       "<style scoped>\n",
       "    .dataframe tbody tr th:only-of-type {\n",
       "        vertical-align: middle;\n",
       "    }\n",
       "\n",
       "    .dataframe tbody tr th {\n",
       "        vertical-align: top;\n",
       "    }\n",
       "\n",
       "    .dataframe thead th {\n",
       "        text-align: right;\n",
       "    }\n",
       "</style>\n",
       "<table border=\"1\" class=\"dataframe\">\n",
       "  <thead>\n",
       "    <tr style=\"text-align: right;\">\n",
       "      <th></th>\n",
       "      <th>letra</th>\n",
       "      <th>artista</th>\n",
       "    </tr>\n",
       "  </thead>\n",
       "  <tbody>\n",
       "    <tr>\n",
       "      <th>0</th>\n",
       "      <td>Jay-z Uh-uh-uh You ready b? Let's go get 'em. ...</td>\n",
       "      <td>Beyoncé</td>\n",
       "    </tr>\n",
       "    <tr>\n",
       "      <th>1</th>\n",
       "      <td>Your challengers are a young group from Housto...</td>\n",
       "      <td>Beyoncé</td>\n",
       "    </tr>\n",
       "    <tr>\n",
       "      <th>2</th>\n",
       "      <td>Dum-da-de-da Do, do, do, do, do, do (Coming do...</td>\n",
       "      <td>Beyoncé</td>\n",
       "    </tr>\n",
       "    <tr>\n",
       "      <th>3</th>\n",
       "      <td>If I ain't got nothing I got you If I ain't go...</td>\n",
       "      <td>Beyoncé</td>\n",
       "    </tr>\n",
       "    <tr>\n",
       "      <th>4</th>\n",
       "      <td>Six inch heels She walked in the club like nob...</td>\n",
       "      <td>Beyoncé</td>\n",
       "    </tr>\n",
       "    <tr>\n",
       "      <th>...</th>\n",
       "      <td>...</td>\n",
       "      <td>...</td>\n",
       "    </tr>\n",
       "    <tr>\n",
       "      <th>513</th>\n",
       "      <td>Yeah yeah Yeah yeah  I ain't trying to think a...</td>\n",
       "      <td>Rihanna</td>\n",
       "    </tr>\n",
       "    <tr>\n",
       "      <th>514</th>\n",
       "      <td>You the one that I dream about all day You the...</td>\n",
       "      <td>Rihanna</td>\n",
       "    </tr>\n",
       "    <tr>\n",
       "      <th>515</th>\n",
       "      <td>No, no, no You don't love me and I know now No...</td>\n",
       "      <td>Rihanna</td>\n",
       "    </tr>\n",
       "    <tr>\n",
       "      <th>516</th>\n",
       "      <td>You should be mine Oh baby, oh baby, oh baby, ...</td>\n",
       "      <td>Rihanna</td>\n",
       "    </tr>\n",
       "    <tr>\n",
       "      <th>517</th>\n",
       "      <td>[Rihanna] I remember when the world was just m...</td>\n",
       "      <td>Rihanna</td>\n",
       "    </tr>\n",
       "  </tbody>\n",
       "</table>\n",
       "<p>518 rows × 2 columns</p>\n",
       "</div>"
      ],
      "text/plain": [
       "                                                 letra  artista\n",
       "0    Jay-z Uh-uh-uh You ready b? Let's go get 'em. ...  Beyoncé\n",
       "1    Your challengers are a young group from Housto...  Beyoncé\n",
       "2    Dum-da-de-da Do, do, do, do, do, do (Coming do...  Beyoncé\n",
       "3    If I ain't got nothing I got you If I ain't go...  Beyoncé\n",
       "4    Six inch heels She walked in the club like nob...  Beyoncé\n",
       "..                                                 ...      ...\n",
       "513  Yeah yeah Yeah yeah  I ain't trying to think a...  Rihanna\n",
       "514  You the one that I dream about all day You the...  Rihanna\n",
       "515  No, no, no You don't love me and I know now No...  Rihanna\n",
       "516  You should be mine Oh baby, oh baby, oh baby, ...  Rihanna\n",
       "517  [Rihanna] I remember when the world was just m...  Rihanna\n",
       "\n",
       "[518 rows x 2 columns]"
      ]
     },
     "execution_count": 7,
     "metadata": {},
     "output_type": "execute_result"
    }
   ],
   "source": [
    "data"
   ]
  },
  {
   "cell_type": "markdown",
   "metadata": {},
   "source": [
    "## Analise Exploratoria"
   ]
  },
  {
   "cell_type": "markdown",
   "metadata": {},
   "source": [
    "### Distribuiçao das classes\n",
    "\n",
    "Um ponto inicial interessante é analisar a distribuição das classes e verificar se há dados desbalanceados ou não, para que assim possa inferido a necessidade de tratamentos especiais como data agumentation ou não."
   ]
  },
  {
   "cell_type": "code",
   "execution_count": 57,
   "metadata": {},
   "outputs": [
    {
     "data": {
      "text/plain": [
       "<matplotlib.axes._subplots.AxesSubplot at 0x7f7a2536c2d0>"
      ]
     },
     "execution_count": 57,
     "metadata": {},
     "output_type": "execute_result"
    },
    {
     "data": {
      "image/png": "[encoded data removed]",
      "text/plain": [
       "<Figure size 720x360 with 1 Axes>"
      ]
     },
     "metadata": {
      "needs_background": "light"
     },
     "output_type": "display_data"
    }
   ],
   "source": [
    "y = list(data['artista'].value_counts())\n",
    "x = list(np.unique(data['artista']))\n",
    "\n",
    "plt.figure(figsize=(10, 5))\n",
    "sns.barplot(x, y, saturation=0.3)"
   ]
  },
  {
   "cell_type": "markdown",
   "metadata": {},
   "source": [
    "Temos uma informação super importante, trata-se de uma classificação binaria, pois há somente duas classes.\n",
    "\n",
    "Além disso, os dados não estão tão desbalanceados, podemos checar a entropia para ter certeza. Lembrando que, pela entropia de Shannon:\n",
    "\n",
    "0 - Completamente desbalanceado;\n",
    "\n",
    "1 - Completamente Balanceado"
   ]
  },
  {
   "cell_type": "code",
   "execution_count": 55,
   "metadata": {},
   "outputs": [
    {
     "name": "stdout",
     "output_type": "stream",
     "text": [
      "Entropia: 0.9975791349905527\n"
     ]
    }
   ],
   "source": [
    "print(\"Entropia:\", entropy([new_val/sum(y) for new_val in y], base=2))"
   ]
  },
  {
   "cell_type": "markdown",
   "metadata": {},
   "source": [
    "### Dados Faltantes"
   ]
  },
  {
   "cell_type": "markdown",
   "metadata": {},
   "source": [
    "Há alguns tratamentos especiais para tal caso e não podemos ignorar dados ausentes."
   ]
  },
  {
   "cell_type": "code",
   "execution_count": 65,
   "metadata": {},
   "outputs": [
    {
     "name": "stdout",
     "output_type": "stream",
     "text": [
      "Dados Faltantes: ['Artista', 'Letra'] -> [0, 0]\n"
     ]
    },
    {
     "data": {
      "image/png": "[encoded data removed]",
      "text/plain": [
       "<Figure size 720x360 with 1 Axes>"
      ]
     },
     "metadata": {
      "needs_background": "light"
     },
     "output_type": "display_data"
    }
   ],
   "source": [
    "x = [\"Artista\", \"Letra\"]\n",
    "y = [data['artista'].isna().sum(), data['letra'].isna().sum()]\n",
    "\n",
    "\n",
    "plt.figure(figsize=(10, 5))\n",
    "plt.title(\"Dados ausentes (Nan, None)\")\n",
    "sns.barplot(x, y, saturation=0.3)\n",
    "\n",
    "print(\"Dados Faltantes: {} -> {}\".format(x, y))"
   ]
  },
  {
   "cell_type": "markdown",
   "metadata": {},
   "source": [
    "No entanto, não há dados ausentes nessa base de dados"
   ]
  },
  {
   "cell_type": "markdown",
   "metadata": {},
   "source": [
    "### Quantidade de palavras em cada letra"
   ]
  },
  {
   "cell_type": "markdown",
   "metadata": {},
   "source": [
    "Alguns algoritmos como o BERT, possuem uma limitação de tokens (Palavras) a serem usadas no embedding, portanto, devemos checar se a quantidade de palavras e inferir uma media."
   ]
  },
  {
   "cell_type": "code",
   "execution_count": 89,
   "metadata": {},
   "outputs": [
    {
     "data": {
      "text/plain": [
       "<matplotlib.axes._subplots.AxesSubplot at 0x7f7a1e932650>"
      ]
     },
     "execution_count": 89,
     "metadata": {},
     "output_type": "execute_result"
    },
    {
     "data": {
      "image/png": "[encoded data removed]",
      "text/plain": [
       "<Figure size 720x360 with 1 Axes>"
      ]
     },
     "metadata": {
      "needs_background": "light"
     },
     "output_type": "display_data"
    }
   ],
   "source": [
    "words = data['letra'].str.split(\" \").replace(\" \", \"\")\n",
    "song_size = [len(_words) for _words in words]\n",
    "\n",
    "plt.figure(figsize=(10, 5))\n",
    "sns.distplot(song_size)"
   ]
  },
  {
   "cell_type": "code",
   "execution_count": 90,
   "metadata": {},
   "outputs": [
    {
     "name": "stdout",
     "output_type": "stream",
     "text": [
      "Média:  405.8050193050193\n",
      "Mediana:  386.0\n"
     ]
    }
   ],
   "source": [
    "print(\"Média: \", sum(song_size)/len(song_size))\n",
    "print(\"Mediana: \", np.median(song_size))"
   ]
  },
  {
   "cell_type": "markdown",
   "metadata": {},
   "source": [
    "Temos o valor médio da quantidade palavras, em alguns casos ultrapassa o limite de tokens do BERT, no entanto, ainda teremos que decidir qual modelos usar mais a frente"
   ]
  },
  {
   "cell_type": "markdown",
   "metadata": {},
   "source": [
    "### Presença de stopswords\n",
    "\n",
    "Stopwords são palavras que em alguns contextos podem ser irrelevantes, por isso, precisamos analisar a presença das mesmas para que possamos julgar se há necessidade um processamento futuro"
   ]
  },
  {
   "cell_type": "code",
   "execution_count": 109,
   "metadata": {},
   "outputs": [],
   "source": [
    "stop_words = set(stopwords.words('english'))\n",
    "stop_words\n",
    "\n",
    "\n",
    "stop_words_in_songs = {}\n",
    "\n",
    "for rows in words:\n",
    "    for _word in rows:\n",
    "        if _word == stop_words:\n",
    "            try:\n",
    "                stop_words_in_songs[_word] += 1\n",
    "            except:\n",
    "                stop_words_in_songs[_word] = 1"
   ]
  },
  {
   "cell_type": "code",
   "execution_count": 137,
   "metadata": {},
   "outputs": [
    {
     "data": {
      "text/plain": [
       "<matplotlib.axes._subplots.AxesSubplot at 0x7f7a1f421990>"
      ]
     },
     "execution_count": 137,
     "metadata": {},
     "output_type": "execute_result"
    },
    {
     "data": {
      "image/png": "[encoded data removed]",
      "text/plain": [
       "<Figure size 1440x576 with 1 Axes>"
      ]
     },
     "metadata": {
      "needs_background": "light"
     },
     "output_type": "display_data"
    }
   ],
   "source": [
    "stop_words_in_songs = dict(sorted(stop_words_in_songs.items(), key=lambda item: item[1], reverse=True))\n",
    "\n",
    "y = list(stop_words_in_songs.values())[:20]\n",
    "x = list(stop_words_in_songs.keys())[:20]\n",
    "\n",
    "plt.figure(figsize=(20, 8))\n",
    "sns.barplot(x=x, y=y)"
   ]
  },
  {
   "cell_type": "markdown",
   "metadata": {},
   "source": [
    "Observa-se que há uma grande prevalencia de stopwords, palavras como you, the, me, to, it provavelmente não nos ajudarão a saber quem é o cantor, no entanto, faremos testes para confirmar nossa hipotese futuramente"
   ]
  },
  {
   "cell_type": "markdown",
   "metadata": {},
   "source": [
    "## Processamento dos dados\n",
    "\n",
    "No nosso processo de treinamento de dados, vamos testar os seguintes processamentos\n",
    "\n",
    "* Dados cru\n",
    "* Dados sem stopwords\n",
    "* Augmentation para padronização das classes (50%, 50%)\n",
    "\n",
    "Para os modelos mais classicos será utilizado o TF-IDF para estruturar esses dados, para o outros modelos, como BERT, será usado o word embedding."
   ]
  },
  {
   "cell_type": "code",
   "execution_count": 145,
   "metadata": {},
   "outputs": [
    {
     "data": {
      "text/plain": [
       "0      Jay-z Uh-uh-uh You ready b? Let's go get 'em. ...\n",
       "1      Your challengers are a young group from Housto...\n",
       "2      Dum-da-de-da Do, do, do, do, do, do (Coming do...\n",
       "3      If I ain't got nothing I got you If I ain't go...\n",
       "4      Six inch heels She walked in the club like nob...\n",
       "                             ...                        \n",
       "513    Yeah yeah Yeah yeah  I ain't trying to think a...\n",
       "514    You the one that I dream about all day You the...\n",
       "515    No, no, no You don't love me and I know now No...\n",
       "516    You should be mine Oh baby, oh baby, oh baby, ...\n",
       "517    [Rihanna] I remember when the world was just m...\n",
       "Name: letra, Length: 518, dtype: object"
      ]
     },
     "execution_count": 145,
     "metadata": {},
     "output_type": "execute_result"
    }
   ],
   "source": [
    "data['letra']"
   ]
  },
  {
   "cell_type": "markdown",
   "metadata": {},
   "source": [
    "### Dados sem stopwords"
   ]
  },
  {
   "cell_type": "code",
   "execution_count": 149,
   "metadata": {},
   "outputs": [],
   "source": [
    "x_without_stopword = []\n",
    "\n",
    "for song in data['letra']:\n",
    "    song_letra = []\n",
    "    for letra in song.split(\" \"):\n",
    "        if letra.replace(\" \", \"\") != stop_words:\n",
    "            song_letra.append(letra)\n",
    "    x_without_stopword.append(song_letra)\n",
    "        \n",
    "x_without_stopword = pd.Series(x_without_stopword)\n",
    "y_without_stopword = data['artista']"
   ]
  },
  {
   "cell_type": "markdown",
   "metadata": {},
   "source": [
    "### Data augmentation"
   ]
  },
  {
   "cell_type": "code",
   "execution_count": null,
   "metadata": {},
   "outputs": [],
   "source": []
  },
  {
   "cell_type": "markdown",
   "metadata": {},
   "source": [
    "## Divisão de treino e testes"
   ]
  },
  {
   "cell_type": "code",
   "execution_count": null,
   "metadata": {},
   "outputs": [],
   "source": [
    "x_train_without_stopword, x_test_without_stopword\n",
    "tfidf_without_stopword = TfidfVectorizer().f"
   ]
  },
  {
   "cell_type": "markdown",
   "metadata": {},
   "source": [
    "## Modelo de Aprendizado de Maquina"
   ]
  },
  {
   "cell_type": "code",
   "execution_count": null,
   "metadata": {},
   "outputs": [],
   "source": []
  }
 ],
 "metadata": {
  "kernelspec": {
   "display_name": "Python 3",
   "language": "python",
   "name": "python3"
  },
  "language_info": {
   "codemirror_mode": {
    "name": "ipython",
    "version": 3
   },
   "file_extension": ".py",
   "mimetype": "text/x-python",
   "name": "python",
   "nbconvert_exporter": "python",
   "pygments_lexer": "ipython3",
   "version": "3.7.6"
  }
 },
 "nbformat": 4,
 "nbformat_minor": 4
}
