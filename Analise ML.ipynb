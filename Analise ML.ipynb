{
 "cells": [
  {
   "cell_type": "code",
   "execution_count": null,
   "metadata": {},
   "outputs": [],
   "source": []
  },
  {
   "cell_type": "code",
   "execution_count": 1,
   "metadata": {},
   "outputs": [],
   "source": [
    "import pandas as pd\n",
    "from matplotlib import pyplot as plt\n",
    "import seaborn as sns\n",
    "import numpy as np\n",
    "from sklearn.metrics import precision_recall_fscore_support\n",
    "from sklearn.metrics import confusion_matrix\n",
    "from sklearn.metrics import recall_score\n",
    "from sklearn.metrics import precision_score\n",
    "from sklearn.metrics import accuracy_score\n",
    "from sklearn.metrics import f1_score\n",
    "from sklearn import preprocessing\n",
    "import math\n",
    "\n",
    "from sklearn.svm import SVC\n",
    "from sklearn.naive_bayes import MultinomialNB\n",
    "import xgboost as xgb\n",
    "from sklearn.model_selection import KFold\n",
    "from sklearn.model_selection import train_test_split\n",
    "from sklearn.model_selection import GridSearchCV"
   ]
  },
  {
   "cell_type": "markdown",
   "metadata": {},
   "source": [
    "## Extração dos dados"
   ]
  },
  {
   "cell_type": "code",
   "execution_count": 2,
   "metadata": {},
   "outputs": [],
   "source": [
    "data = pd.read_excel(\"Data/dataset.xls\", sheet_name='Análise_ML')"
   ]
  },
  {
   "cell_type": "code",
   "execution_count": 3,
   "metadata": {},
   "outputs": [
    {
     "data": {
      "text/html": [
       "<div>\n",
       "<style scoped>\n",
       "    .dataframe tbody tr th:only-of-type {\n",
       "        vertical-align: middle;\n",
       "    }\n",
       "\n",
       "    .dataframe tbody tr th {\n",
       "        vertical-align: top;\n",
       "    }\n",
       "\n",
       "    .dataframe thead th {\n",
       "        text-align: right;\n",
       "    }\n",
       "</style>\n",
       "<table border=\"1\" class=\"dataframe\">\n",
       "  <thead>\n",
       "    <tr style=\"text-align: right;\">\n",
       "      <th></th>\n",
       "      <th>Pred_class</th>\n",
       "      <th>probabilidade</th>\n",
       "      <th>status</th>\n",
       "      <th>True_class</th>\n",
       "    </tr>\n",
       "  </thead>\n",
       "  <tbody>\n",
       "    <tr>\n",
       "      <th>0</th>\n",
       "      <td>2</td>\n",
       "      <td>0.079892</td>\n",
       "      <td>approved</td>\n",
       "      <td>0.0</td>\n",
       "    </tr>\n",
       "    <tr>\n",
       "      <th>1</th>\n",
       "      <td>2</td>\n",
       "      <td>0.379377</td>\n",
       "      <td>approved</td>\n",
       "      <td>74.0</td>\n",
       "    </tr>\n",
       "    <tr>\n",
       "      <th>2</th>\n",
       "      <td>2</td>\n",
       "      <td>0.379377</td>\n",
       "      <td>approved</td>\n",
       "      <td>74.0</td>\n",
       "    </tr>\n",
       "    <tr>\n",
       "      <th>3</th>\n",
       "      <td>2</td>\n",
       "      <td>0.420930</td>\n",
       "      <td>approved</td>\n",
       "      <td>74.0</td>\n",
       "    </tr>\n",
       "    <tr>\n",
       "      <th>4</th>\n",
       "      <td>2</td>\n",
       "      <td>0.607437</td>\n",
       "      <td>approved</td>\n",
       "      <td>NaN</td>\n",
       "    </tr>\n",
       "    <tr>\n",
       "      <th>...</th>\n",
       "      <td>...</td>\n",
       "      <td>...</td>\n",
       "      <td>...</td>\n",
       "      <td>...</td>\n",
       "    </tr>\n",
       "    <tr>\n",
       "      <th>638</th>\n",
       "      <td>60</td>\n",
       "      <td>0.543772</td>\n",
       "      <td>revision</td>\n",
       "      <td>NaN</td>\n",
       "    </tr>\n",
       "    <tr>\n",
       "      <th>639</th>\n",
       "      <td>60</td>\n",
       "      <td>0.553846</td>\n",
       "      <td>revision</td>\n",
       "      <td>NaN</td>\n",
       "    </tr>\n",
       "    <tr>\n",
       "      <th>640</th>\n",
       "      <td>77</td>\n",
       "      <td>0.606065</td>\n",
       "      <td>revision</td>\n",
       "      <td>NaN</td>\n",
       "    </tr>\n",
       "    <tr>\n",
       "      <th>641</th>\n",
       "      <td>84</td>\n",
       "      <td>0.561842</td>\n",
       "      <td>revision</td>\n",
       "      <td>NaN</td>\n",
       "    </tr>\n",
       "    <tr>\n",
       "      <th>642</th>\n",
       "      <td>96</td>\n",
       "      <td>0.340740</td>\n",
       "      <td>revision</td>\n",
       "      <td>NaN</td>\n",
       "    </tr>\n",
       "  </tbody>\n",
       "</table>\n",
       "<p>643 rows × 4 columns</p>\n",
       "</div>"
      ],
      "text/plain": [
       "     Pred_class  probabilidade    status  True_class\n",
       "0             2       0.079892  approved         0.0\n",
       "1             2       0.379377  approved        74.0\n",
       "2             2       0.379377  approved        74.0\n",
       "3             2       0.420930  approved        74.0\n",
       "4             2       0.607437  approved         NaN\n",
       "..          ...            ...       ...         ...\n",
       "638          60       0.543772  revision         NaN\n",
       "639          60       0.553846  revision         NaN\n",
       "640          77       0.606065  revision         NaN\n",
       "641          84       0.561842  revision         NaN\n",
       "642          96       0.340740  revision         NaN\n",
       "\n",
       "[643 rows x 4 columns]"
      ]
     },
     "execution_count": 3,
     "metadata": {},
     "output_type": "execute_result"
    }
   ],
   "source": [
    "data"
   ]
  },
  {
   "cell_type": "markdown",
   "metadata": {},
   "source": [
    "## Analise Exploratória - Item 1"
   ]
  },
  {
   "cell_type": "markdown",
   "metadata": {},
   "source": [
    "### Dados ausentes"
   ]
  },
  {
   "cell_type": "code",
   "execution_count": 4,
   "metadata": {},
   "outputs": [
    {
     "data": {
      "text/plain": [
       "<matplotlib.axes._subplots.AxesSubplot at 0x7f09d08cfdd0>"
      ]
     },
     "execution_count": 4,
     "metadata": {},
     "output_type": "execute_result"
    },
    {
     "data": {
      "image/png": "[encoded data removed]",
      "text/plain": [
       "<Figure size 720x360 with 1 Axes>"
      ]
     },
     "metadata": {
      "needs_background": "light"
     },
     "output_type": "display_data"
    }
   ],
   "source": [
    "plt.figure(figsize=(10,5))\n",
    "plt.title(\"Porcentagem de dados faltantes\")\n",
    "sns.barplot(x=data.isna().sum().keys(), y=data.isna().sum().values/len(data))"
   ]
  },
  {
   "cell_type": "code",
   "execution_count": 5,
   "metadata": {},
   "outputs": [],
   "source": [
    "not_nan_data = data.copy()\n",
    "not_nan_data['True_class'] = not_nan_data['True_class'].fillna(value=data['Pred_class']).reset_index(drop=True)\n",
    "not_nan_data['True_class'] = not_nan_data['True_class'].astype(np.int)"
   ]
  },
  {
   "cell_type": "markdown",
   "metadata": {},
   "source": [
    "Mais de 70% da True_class não tem informação, ou seja, mais de 70% dos dados não tiveram a classificação de seu valor."
   ]
  },
  {
   "cell_type": "markdown",
   "metadata": {},
   "source": [
    "### Distribuição da True e Pred class"
   ]
  },
  {
   "cell_type": "code",
   "execution_count": 6,
   "metadata": {},
   "outputs": [
    {
     "data": {
      "image/png": "[encoded data removed]",
      "text/plain": [
       "<Figure size 720x360 with 1 Axes>"
      ]
     },
     "metadata": {
      "needs_background": "light"
     },
     "output_type": "display_data"
    }
   ],
   "source": [
    "plt.figure(figsize=(10,5))\n",
    "plt.title(\"Distribuição da True Class\")\n",
    "sns.distplot(not_nan_data['True_class'], label=\"_trueclass\")\n",
    "sns.distplot(not_nan_data['Pred_class'], label=\"_pred\")\n",
    "plt.legend([\"True Class\", \"Pred Class\"])\n",
    "plt.show()"
   ]
  },
  {
   "cell_type": "markdown",
   "metadata": {},
   "source": [
    "A distribuição indica que há classes com a classificação errada (pred class), pois as distribuições não coincidem. Além disso, é importante destacar o desbalanceamento dos dados na True Class, onde há mais informações entre o intervalo 0-25 do que o intervalo 25-75, por exemplo."
   ]
  },
  {
   "cell_type": "markdown",
   "metadata": {},
   "source": [
    "### Distribuição do status da classificação"
   ]
  },
  {
   "cell_type": "code",
   "execution_count": 7,
   "metadata": {},
   "outputs": [
    {
     "data": {
      "image/png": "[encoded data removed]",
      "text/plain": [
       "<Figure size 720x360 with 1 Axes>"
      ]
     },
     "metadata": {
      "needs_background": "light"
     },
     "output_type": "display_data"
    }
   ],
   "source": [
    "plt.figure(figsize=(10,5))\n",
    "plt.title(\"Distribuição da True Class\")\n",
    "sns.barplot(not_nan_data['status'].keys(), not_nan_data['status'].values, saturation=0.3)\n",
    "plt.show()"
   ]
  },
  {
   "cell_type": "markdown",
   "metadata": {},
   "source": [
    "Apenas uma parte dos dados estão com status de aprovados, isso é uma informação importante, pois caso haja a necessidade de montar um modelo de classificação, teremos que usar os dados com status de aprovado, para garantir a certeza nos nossos resultados"
   ]
  },
  {
   "cell_type": "markdown",
   "metadata": {},
   "source": [
    "### Distribuição da probabilidade"
   ]
  },
  {
   "cell_type": "code",
   "execution_count": 8,
   "metadata": {},
   "outputs": [
    {
     "data": {
      "image/png": "[encoded data removed]",
      "text/plain": [
       "<Figure size 720x360 with 1 Axes>"
      ]
     },
     "metadata": {
      "needs_background": "light"
     },
     "output_type": "display_data"
    }
   ],
   "source": [
    "plt.figure(figsize=(10,5))\n",
    "plt.title(\"Distribuição da True Class\")\n",
    "sns.distplot(not_nan_data['probabilidade'])\n",
    "plt.show()"
   ]
  },
  {
   "cell_type": "markdown",
   "metadata": {},
   "source": [
    "Novamente, temos dados desbalanceados, com dados enviesados para direita (right skew). Há alguns processamentos, como normalização e padronização dos dados, usando funções como sigmoid, log, tanh. Nesse caso, usaremos a normalização seguida pela raiz cubica do quadrado dos dados."
   ]
  },
  {
   "cell_type": "code",
   "execution_count": 9,
   "metadata": {},
   "outputs": [
    {
     "data": {
      "image/png": "[encoded data removed]",
      "text/plain": [
       "<Figure size 720x360 with 1 Axes>"
      ]
     },
     "metadata": {
      "needs_background": "light"
     },
     "output_type": "display_data"
    }
   ],
   "source": [
    "normalized_prob = preprocessing.normalize([not_nan_data['probabilidade']])\n",
    "\n",
    "plt.figure(figsize=(10,5))\n",
    "plt.title(\"Distribuição da True Class normalizada\")\n",
    "sns.distplot((normalized_prob)**2/3)\n",
    "plt.show()"
   ]
  },
  {
   "cell_type": "markdown",
   "metadata": {},
   "source": [
    "Percebe-se a diferença, temos algo proximo de uma distribuição uniforme, fator importante para alguns modelos, além de poder trazer melhores resultados. Verificaremos a diferença de score entre os dados processados ou não futuramente"
   ]
  },
  {
   "cell_type": "markdown",
   "metadata": {},
   "source": [
    "### Correção entre probabilidade e True Class"
   ]
  },
  {
   "cell_type": "code",
   "execution_count": 10,
   "metadata": {},
   "outputs": [
    {
     "data": {
      "text/plain": [
       "<matplotlib.axes._subplots.AxesSubplot at 0x7f09cfeff990>"
      ]
     },
     "execution_count": 10,
     "metadata": {},
     "output_type": "execute_result"
    },
    {
     "data": {
      "image/png": "[encoded data removed]",
      "text/plain": [
       "<Figure size 720x360 with 1 Axes>"
      ]
     },
     "metadata": {
      "needs_background": "light"
     },
     "output_type": "display_data"
    }
   ],
   "source": [
    "prob = data['probabilidade']\n",
    "true_class = data['True_class']\n",
    "plt.figure(figsize=(10,5))\n",
    "plt.title(\"Correlação entre probabilidade e a classe verdadeira\")\n",
    "sns.scatterplot(true_class, prob, hue = data['status'])"
   ]
  },
  {
   "cell_type": "markdown",
   "metadata": {},
   "source": [
    "Visualmente não é possivel identificar um padrão, no entanto, podemos verificar matematicamente."
   ]
  },
  {
   "cell_type": "code",
   "execution_count": 11,
   "metadata": {},
   "outputs": [
    {
     "name": "stdout",
     "output_type": "stream",
     "text": [
      "quantidade de dados ausentes:  462\n"
     ]
    },
    {
     "data": {
      "image/png": "[encoded data removed]",
      "text/plain": [
       "<Figure size 720x360 with 2 Axes>"
      ]
     },
     "metadata": {
      "needs_background": "light"
     },
     "output_type": "display_data"
    },
    {
     "data": {
      "text/html": [
       "<div>\n",
       "<style scoped>\n",
       "    .dataframe tbody tr th:only-of-type {\n",
       "        vertical-align: middle;\n",
       "    }\n",
       "\n",
       "    .dataframe tbody tr th {\n",
       "        vertical-align: top;\n",
       "    }\n",
       "\n",
       "    .dataframe thead th {\n",
       "        text-align: right;\n",
       "    }\n",
       "</style>\n",
       "<table border=\"1\" class=\"dataframe\">\n",
       "  <thead>\n",
       "    <tr style=\"text-align: right;\">\n",
       "      <th></th>\n",
       "      <th>Pred_class</th>\n",
       "      <th>probabilidade</th>\n",
       "      <th>True_class</th>\n",
       "    </tr>\n",
       "  </thead>\n",
       "  <tbody>\n",
       "    <tr>\n",
       "      <th>Pred_class</th>\n",
       "      <td>1.000000</td>\n",
       "      <td>-0.123457</td>\n",
       "      <td>-0.067319</td>\n",
       "    </tr>\n",
       "    <tr>\n",
       "      <th>probabilidade</th>\n",
       "      <td>-0.123457</td>\n",
       "      <td>1.000000</td>\n",
       "      <td>0.381209</td>\n",
       "    </tr>\n",
       "    <tr>\n",
       "      <th>True_class</th>\n",
       "      <td>-0.067319</td>\n",
       "      <td>0.381209</td>\n",
       "      <td>1.000000</td>\n",
       "    </tr>\n",
       "  </tbody>\n",
       "</table>\n",
       "</div>"
      ],
      "text/plain": [
       "               Pred_class  probabilidade  True_class\n",
       "Pred_class       1.000000      -0.123457   -0.067319\n",
       "probabilidade   -0.123457       1.000000    0.381209\n",
       "True_class      -0.067319       0.381209    1.000000"
      ]
     },
     "execution_count": 11,
     "metadata": {},
     "output_type": "execute_result"
    }
   ],
   "source": [
    "print(\"quantidade de dados ausentes: \", data['True_class'].isna().sum())\n",
    "\n",
    "mask = np.zeros_like(data.corr())\n",
    "mask[np.triu_indices_from(mask)] = True\n",
    "mask = mask == False\n",
    "\n",
    "plt.figure(figsize=(10,5))\n",
    "plt.title(\"Heatmap das correçãoes\")\n",
    "sns.heatmap(data.corr(), annot=True, linewidths=10, cmap=\"YlGnBu\", mask=mask)\n",
    "plt.show()\n",
    "data.corr()"
   ]
  },
  {
   "cell_type": "code",
   "execution_count": 12,
   "metadata": {},
   "outputs": [
    {
     "name": "stdout",
     "output_type": "stream",
     "text": [
      "quantidade de dados ausentes:  0\n"
     ]
    },
    {
     "data": {
      "image/png": "[encoded data removed]",
      "text/plain": [
       "<Figure size 720x360 with 2 Axes>"
      ]
     },
     "metadata": {
      "needs_background": "light"
     },
     "output_type": "display_data"
    },
    {
     "data": {
      "text/html": [
       "<div>\n",
       "<style scoped>\n",
       "    .dataframe tbody tr th:only-of-type {\n",
       "        vertical-align: middle;\n",
       "    }\n",
       "\n",
       "    .dataframe tbody tr th {\n",
       "        vertical-align: top;\n",
       "    }\n",
       "\n",
       "    .dataframe thead th {\n",
       "        text-align: right;\n",
       "    }\n",
       "</style>\n",
       "<table border=\"1\" class=\"dataframe\">\n",
       "  <thead>\n",
       "    <tr style=\"text-align: right;\">\n",
       "      <th></th>\n",
       "      <th>Pred_class</th>\n",
       "      <th>probabilidade</th>\n",
       "      <th>True_class</th>\n",
       "    </tr>\n",
       "  </thead>\n",
       "  <tbody>\n",
       "    <tr>\n",
       "      <th>Pred_class</th>\n",
       "      <td>1.000000</td>\n",
       "      <td>-0.123457</td>\n",
       "      <td>0.672541</td>\n",
       "    </tr>\n",
       "    <tr>\n",
       "      <th>probabilidade</th>\n",
       "      <td>-0.123457</td>\n",
       "      <td>1.000000</td>\n",
       "      <td>0.051251</td>\n",
       "    </tr>\n",
       "    <tr>\n",
       "      <th>True_class</th>\n",
       "      <td>0.672541</td>\n",
       "      <td>0.051251</td>\n",
       "      <td>1.000000</td>\n",
       "    </tr>\n",
       "  </tbody>\n",
       "</table>\n",
       "</div>"
      ],
      "text/plain": [
       "               Pred_class  probabilidade  True_class\n",
       "Pred_class       1.000000      -0.123457    0.672541\n",
       "probabilidade   -0.123457       1.000000    0.051251\n",
       "True_class       0.672541       0.051251    1.000000"
      ]
     },
     "execution_count": 12,
     "metadata": {},
     "output_type": "execute_result"
    }
   ],
   "source": [
    "print(\"quantidade de dados ausentes: \", not_nan_data['True_class'].isna().sum())\n",
    "\n",
    "mask = np.zeros_like(not_nan_data.corr())\n",
    "mask[np.triu_indices_from(mask)] = True\n",
    "mask = mask == False\n",
    "\n",
    "plt.figure(figsize=(10,5))\n",
    "plt.title(\"Heatmap das correçãoes\")\n",
    "sns.heatmap(not_nan_data.corr(), annot=True, linewidths=10, cmap=\"YlGnBu\", mask=mask)\n",
    "plt.show()\n",
    "data.corr()\n",
    "\n",
    "not_nan_data.corr()"
   ]
  },
  {
   "cell_type": "markdown",
   "metadata": {},
   "source": [
    "Os dados sem preencher os dados ausentes True_class com valores da Pred_class nos indicam uma correlação entre probabildiade e True class de quase 0.4, um valor bem interessante e util. No entanto, após o preenchimento dos dados, tal valor cai para 0.05, uma correlação quase insignificante. Veremos mais a frente como os modelos se comportarão perante os dois dados"
   ]
  },
  {
   "cell_type": "markdown",
   "metadata": {},
   "source": [
    "Vamos analisar mais um caso: E se ao inves de preenchermos os todos os dados ausentes com o valor da predição, classificassemos apenas aqueles com o status de aprovado? Vamos verificar"
   ]
  },
  {
   "cell_type": "code",
   "execution_count": 13,
   "metadata": {},
   "outputs": [
    {
     "name": "stdout",
     "output_type": "stream",
     "text": [
      "quantidade de dados ausentes:  43\n"
     ]
    },
    {
     "data": {
      "image/png": "[encoded data removed]",
      "text/plain": [
       "<Figure size 720x360 with 2 Axes>"
      ]
     },
     "metadata": {
      "needs_background": "light"
     },
     "output_type": "display_data"
    },
    {
     "data": {
      "text/html": [
       "<div>\n",
       "<style scoped>\n",
       "    .dataframe tbody tr th:only-of-type {\n",
       "        vertical-align: middle;\n",
       "    }\n",
       "\n",
       "    .dataframe tbody tr th {\n",
       "        vertical-align: top;\n",
       "    }\n",
       "\n",
       "    .dataframe thead th {\n",
       "        text-align: right;\n",
       "    }\n",
       "</style>\n",
       "<table border=\"1\" class=\"dataframe\">\n",
       "  <thead>\n",
       "    <tr style=\"text-align: right;\">\n",
       "      <th></th>\n",
       "      <th>Pred_class</th>\n",
       "      <th>probabilidade</th>\n",
       "      <th>True_class</th>\n",
       "    </tr>\n",
       "  </thead>\n",
       "  <tbody>\n",
       "    <tr>\n",
       "      <th>Pred_class</th>\n",
       "      <td>1.000000</td>\n",
       "      <td>-0.123457</td>\n",
       "      <td>0.65449</td>\n",
       "    </tr>\n",
       "    <tr>\n",
       "      <th>probabilidade</th>\n",
       "      <td>-0.123457</td>\n",
       "      <td>1.000000</td>\n",
       "      <td>0.04903</td>\n",
       "    </tr>\n",
       "    <tr>\n",
       "      <th>True_class</th>\n",
       "      <td>0.654490</td>\n",
       "      <td>0.049030</td>\n",
       "      <td>1.00000</td>\n",
       "    </tr>\n",
       "  </tbody>\n",
       "</table>\n",
       "</div>"
      ],
      "text/plain": [
       "               Pred_class  probabilidade  True_class\n",
       "Pred_class       1.000000      -0.123457     0.65449\n",
       "probabilidade   -0.123457       1.000000     0.04903\n",
       "True_class       0.654490       0.049030     1.00000"
      ]
     },
     "execution_count": 13,
     "metadata": {},
     "output_type": "execute_result"
    }
   ],
   "source": [
    "data_aux = data.copy()\n",
    "\n",
    "data_aux['True_class'] = data.apply(\n",
    "    lambda row: row['Pred_class'] if row['status'] == 'approved' and math.isnan(row['True_class']) else row['True_class'],\n",
    "    axis=1\n",
    ")\n",
    "\n",
    "print(\"quantidade de dados ausentes: \", data_aux['True_class'].isna().sum())\n",
    "\n",
    "mask = np.zeros_like(data_aux.corr())\n",
    "mask[np.triu_indices_from(mask)] = True\n",
    "mask = mask == False\n",
    "\n",
    "plt.figure(figsize=(10,5))\n",
    "plt.title(\"Heatmap das correçãoes\")\n",
    "sns.heatmap(data_aux.corr(), annot=True, linewidths=10, cmap=\"YlGnBu\", mask=mask)\n",
    "plt.show()\n",
    "data.corr()\n",
    "\n",
    "not_nan_data.corr()\n",
    "\n",
    "data_aux.corr()"
   ]
  },
  {
   "cell_type": "markdown",
   "metadata": {},
   "source": [
    "Muito interessante, a correlação foi ainda menor que a simples subistituição. Ou seja, não obtivemos um resultado bom pra considerarmos esses dados durante o modelo"
   ]
  },
  {
   "cell_type": "markdown",
   "metadata": {},
   "source": [
    "### Correlação entre o status e clasificação do modelo"
   ]
  },
  {
   "cell_type": "code",
   "execution_count": 14,
   "metadata": {},
   "outputs": [
    {
     "data": {
      "image/png": "[encoded data removed]",
      "text/plain": [
       "<Figure size 720x720 with 1 Axes>"
      ]
     },
     "metadata": {
      "needs_background": "light"
     },
     "output_type": "display_data"
    }
   ],
   "source": [
    "plt.figure(figsize=(10,10))\n",
    "plt.title(\"Boxplot entre o status e a predição\")\n",
    "sns.boxplot(x=\"status\", y=\"Pred_class\", data=not_nan_data, linewidth=1);"
   ]
  },
  {
   "cell_type": "markdown",
   "metadata": {},
   "source": [
    "É possivel inferir que, classificações de classes entre 60-80 possuem um grau de confiança muito maior, enquanto que nos dados entre 60-15, há a presença de informações que necessitam de revisão do mesmo. "
   ]
  },
  {
   "cell_type": "markdown",
   "metadata": {},
   "source": [
    "## Metricas de desempenho - Item 2"
   ]
  },
  {
   "cell_type": "markdown",
   "metadata": {},
   "source": [
    "Para calcularmos as metricas precisamos de dados em que há a True_class, excluindo os com dados ausentes, pois as metricas são calculadas na forma f(true_class, predicted_class) -> $\\mathbb{R}$"
   ]
  },
  {
   "cell_type": "markdown",
   "metadata": {},
   "source": [
    "### Acurácia"
   ]
  },
  {
   "cell_type": "markdown",
   "metadata": {},
   "source": [
    "Podemos calcular manualmente:"
   ]
  },
  {
   "cell_type": "code",
   "execution_count": 15,
   "metadata": {},
   "outputs": [
    {
     "name": "stdout",
     "output_type": "stream",
     "text": [
      "Acuracia:  0.71850699844479\n"
     ]
    }
   ],
   "source": [
    "predicted_class = not_nan_data['Pred_class']\n",
    "true_class = not_nan_data['True_class']\n",
    "\n",
    "acertos = 0\n",
    "for index in range(len(true_class)):\n",
    "    if int(true_class[index]) == int(predicted_class[index]):\n",
    "        acertos += 1\n",
    "print(\"Acuracia: \", acertos/len(not_nan_data))"
   ]
  },
  {
   "cell_type": "markdown",
   "metadata": {},
   "source": [
    "Ou usando a biblioteca do scikit-learn"
   ]
  },
  {
   "cell_type": "code",
   "execution_count": 16,
   "metadata": {},
   "outputs": [
    {
     "name": "stdout",
     "output_type": "stream",
     "text": [
      "Acuracia:  0.71850699844479\n"
     ]
    }
   ],
   "source": [
    "print(\"Acuracia: \", accuracy_score(predicted_class, true_class))"
   ]
  },
  {
   "cell_type": "markdown",
   "metadata": {},
   "source": [
    "### F1-Score"
   ]
  },
  {
   "cell_type": "code",
   "execution_count": 17,
   "metadata": {},
   "outputs": [
    {
     "name": "stdout",
     "output_type": "stream",
     "text": [
      "F1-Score:  0.7185069984447899\n"
     ]
    }
   ],
   "source": [
    "print(\"F1-Score: \", f1_score(predicted_class, true_class, average='micro'))"
   ]
  },
  {
   "cell_type": "code",
   "execution_count": 18,
   "metadata": {
    "scrolled": true
   },
   "outputs": [
    {
     "name": "stdout",
     "output_type": "stream",
     "text": [
      "F1-Score:  0.6351511049464889\n"
     ]
    }
   ],
   "source": [
    "print(\"F1-Score: \", f1_score(predicted_class, true_class, average='macro'))"
   ]
  },
  {
   "cell_type": "code",
   "execution_count": 19,
   "metadata": {},
   "outputs": [
    {
     "name": "stdout",
     "output_type": "stream",
     "text": [
      "F1-Score:  0.733533262185557\n"
     ]
    }
   ],
   "source": [
    "print(\"F1-Score: \", f1_score(predicted_class, true_class, average='weighted'))"
   ]
  },
  {
   "cell_type": "markdown",
   "metadata": {},
   "source": [
    "### Recall"
   ]
  },
  {
   "cell_type": "code",
   "execution_count": 20,
   "metadata": {},
   "outputs": [
    {
     "name": "stdout",
     "output_type": "stream",
     "text": [
      "Recall:  0.71850699844479\n"
     ]
    }
   ],
   "source": [
    "print(\"Recall: \", recall_score(predicted_class, true_class, average='micro'))"
   ]
  },
  {
   "cell_type": "code",
   "execution_count": 21,
   "metadata": {},
   "outputs": [
    {
     "name": "stdout",
     "output_type": "stream",
     "text": [
      "Recall:  0.6286648904994168\n"
     ]
    },
    {
     "name": "stderr",
     "output_type": "stream",
     "text": [
      "/home/andresacilotti/anaconda3/lib/python3.7/site-packages/sklearn/metrics/_classification.py:1221: UndefinedMetricWarning: Recall is ill-defined and being set to 0.0 in labels with no true samples. Use `zero_division` parameter to control this behavior.\n",
      "  _warn_prf(average, modifier, msg_start, len(result))\n"
     ]
    }
   ],
   "source": [
    "print(\"Recall: \", recall_score(predicted_class, true_class, average='macro'))"
   ]
  },
  {
   "cell_type": "code",
   "execution_count": 22,
   "metadata": {},
   "outputs": [
    {
     "name": "stdout",
     "output_type": "stream",
     "text": [
      "Recall:  0.71850699844479\n"
     ]
    }
   ],
   "source": [
    "print(\"Recall: \", recall_score(predicted_class, true_class, average='weighted'))"
   ]
  },
  {
   "cell_type": "markdown",
   "metadata": {},
   "source": [
    "### Precision"
   ]
  },
  {
   "cell_type": "code",
   "execution_count": 23,
   "metadata": {},
   "outputs": [
    {
     "name": "stdout",
     "output_type": "stream",
     "text": [
      "Precision:  0.71850699844479\n"
     ]
    }
   ],
   "source": [
    "print(\"Precision: \", precision_score(predicted_class, true_class, average='micro'))"
   ]
  },
  {
   "cell_type": "code",
   "execution_count": 24,
   "metadata": {},
   "outputs": [
    {
     "name": "stdout",
     "output_type": "stream",
     "text": [
      "Precision:  0.6997739858971228\n"
     ]
    },
    {
     "name": "stderr",
     "output_type": "stream",
     "text": [
      "/home/andresacilotti/anaconda3/lib/python3.7/site-packages/sklearn/metrics/_classification.py:1221: UndefinedMetricWarning: Precision is ill-defined and being set to 0.0 in labels with no predicted samples. Use `zero_division` parameter to control this behavior.\n",
      "  _warn_prf(average, modifier, msg_start, len(result))\n"
     ]
    }
   ],
   "source": [
    "print(\"Precision: \", precision_score(predicted_class, true_class, average='macro'))"
   ]
  },
  {
   "cell_type": "code",
   "execution_count": 25,
   "metadata": {},
   "outputs": [
    {
     "name": "stdout",
     "output_type": "stream",
     "text": [
      "Precision:  0.7961207918184912\n"
     ]
    }
   ],
   "source": [
    "print(\"Precision: \", precision_score(predicted_class, true_class, average='weighted'))"
   ]
  },
  {
   "cell_type": "markdown",
   "metadata": {},
   "source": [
    "## Modelo de classificação - Item 3"
   ]
  },
  {
   "cell_type": "markdown",
   "metadata": {},
   "source": [
    "Podemos modelar esse problema da seguinte forma.\n",
    "\n",
    "Nosso sistema precisa definir se os dados para revisão estão corretos ou não. Portanto, utilizaremos as seguintes variaveis:\n",
    "\n",
    "Target -> Correto ou não (1 ou 0)\n",
    "Features -> [Pred_class, probabilidade]"
   ]
  },
  {
   "cell_type": "markdown",
   "metadata": {},
   "source": [
    "Primeiramente iremos separar os dados em aprovados e não aprovados. Além disso, iremos criar os targets, onde se o valor da Pred_class for igual ao da True_class então será considerado correto e recebera 1, caso contrario, receberá 0. Também iremos considerar avaliar o modelo aplicando as transformações na coluna da probabilidade, conforme destacado na analise exploratoria dos dados."
   ]
  },
  {
   "cell_type": "code",
   "execution_count": 26,
   "metadata": {},
   "outputs": [],
   "source": [
    "def _get_features(data):\n",
    "    try:\n",
    "        return data.loc[:, ['Pred_class', 'probabilidade']]\n",
    "    except Exception as e:\n",
    "        raise Exception(\"O dataframe deve conter as colunas Pred_class e probabilidade - {}\".format(e))\n",
    "\n",
    "def _filter_status(data, status):\n",
    "    try:\n",
    "        return data[data['status'] == status].reset_index(drop=True)\n",
    "    except Exception as e:\n",
    "        raise Exception(\"O dataframe deve conter a coluna status - {}\".format(e))\n",
    "        \n",
    "def _preprocess_probability(data):\n",
    "    try:\n",
    "        normalized = preprocessing.normalize([data['probabilidade']])**(2/3)\n",
    "        data['probabilidade'] = normalized.reshape(-1, 1)\n",
    "        return data\n",
    "    except Exception as e:\n",
    "        raise Exception(\"O dataframe deve conter a coluna probabilidade - {}\".format(e))\n"
   ]
  },
  {
   "cell_type": "code",
   "execution_count": 59,
   "metadata": {},
   "outputs": [],
   "source": [
    "approved_data = _filter_status(not_nan_data, 'approved')\n",
    "\n",
    "x_approved = _get_features(approved_data)\n",
    "\n",
    "x_approved_preprocessed = _get_features(_preprocess_probability(approved_data))\n",
    "\n",
    "y_approved = approved_data.apply(\n",
    "    lambda row: 1 if row['Pred_class'] == row[\"True_class\"] else 0,\n",
    "    axis=1\n",
    ")"
   ]
  },
  {
   "cell_type": "markdown",
   "metadata": {},
   "source": [
    "Após isso podemos definir os dados de revisão que iremos classifica-los apos obter nosso modelo de aprendizado de maquina."
   ]
  },
  {
   "cell_type": "code",
   "execution_count": 28,
   "metadata": {},
   "outputs": [],
   "source": [
    "revision_data = _filter_status(not_nan_data, 'revision')\n",
    "\n",
    "x_revision = _get_features(revision_data)\n",
    "\n",
    "x_revision_preprocessed = _preprocess_probability(revision_data)"
   ]
  },
  {
   "cell_type": "markdown",
   "metadata": {},
   "source": [
    "Antes de criar os modelos, precisamos escolher entre dividir uma parte fixa do nosso dataset de aprovados, ou realizar uma validação cruzada. A principio a validação cruzada apresenta alguns beneficios, como testar a generalização do modelo divindo em diferentes partes de testes e treinos"
   ]
  },
  {
   "cell_type": "markdown",
   "metadata": {},
   "source": [
    "Testaremos com alguns modelos, como SVC, NB e XGB, além de diferentes metricas, como F1-Score, Acuracia, Recall e precision"
   ]
  },
  {
   "cell_type": "code",
   "execution_count": 55,
   "metadata": {},
   "outputs": [],
   "source": [
    "scoring = [\n",
    "    'accuracy',\n",
    "    'f1_macro',\n",
    "    'f1_micro',\n",
    "    'recall_macro',\n",
    "    'recall_micro',\n",
    "    'precision_macro',\n",
    "    'precision_micro'\n",
    "]"
   ]
  },
  {
   "cell_type": "markdown",
   "metadata": {},
   "source": [
    "Vale lembrar, que usaremos o metodo GridSearch, para otimizar os modelos, além disso, o gridsearchCV já vem uma validação cruzada do tipo K-Fold interna, que está definida como K=5"
   ]
  },
  {
   "cell_type": "markdown",
   "metadata": {},
   "source": [
    "### SVC"
   ]
  },
  {
   "cell_type": "markdown",
   "metadata": {},
   "source": [
    "#### Raw Data"
   ]
  },
  {
   "cell_type": "code",
   "execution_count": 80,
   "metadata": {},
   "outputs": [
    {
     "name": "stdout",
     "output_type": "stream",
     "text": [
      "Fitting 5 folds for each of 108 candidates, totalling 540 fits\n"
     ]
    },
    {
     "name": "stderr",
     "output_type": "stream",
     "text": [
      "[Parallel(n_jobs=5)]: Using backend LokyBackend with 5 concurrent workers.\n",
      "[Parallel(n_jobs=5)]: Done 150 tasks      | elapsed:    0.9s\n",
      "[Parallel(n_jobs=5)]: Done 531 out of 540 | elapsed:   11.8s remaining:    0.2s\n",
      "[Parallel(n_jobs=5)]: Done 540 out of 540 | elapsed:   13.6s finished\n"
     ]
    },
    {
     "name": "stdout",
     "output_type": "stream",
     "text": [
      "SVC(C=10, coef0=0.001, degree=2, kernel='linear', random_state=42)\n"
     ]
    },
    {
     "data": {
      "image/png": "[encoded data removed]",
      "text/plain": [
       "<Figure size 720x504 with 1 Axes>"
      ]
     },
     "metadata": {
      "needs_background": "light"
     },
     "output_type": "display_data"
    }
   ],
   "source": [
    "parameters = {\n",
    "    'C': [0.001, 0.01, 1, 10],\n",
    "    'kernel': ['linear','poly', 'sigmoid'],\n",
    "    'degree': [2, 3, 4],\n",
    "    'coef0': [0.001, 0, 1],\n",
    "    'random_state': [42]\n",
    "}\n",
    "\n",
    "svc = SVC()\n",
    "gs = GridSearchCV(svc, parameters, verbose=1, n_jobs=5, scoring=scoring, refit='f1_micro')\n",
    "\n",
    "gs.fit(x_approved, y_approved)\n",
    "\n",
    "metrics_labels = [\n",
    "    'F1 Macro',\n",
    "    \"F1 Micro\",\n",
    "    \"Acuracia\",\n",
    "    \"Recall Macro\",\n",
    "    \"Recall Micro\",\n",
    "    \"Precision Macro\",\n",
    "    \"Precision Micro\"\n",
    "]\n",
    "\n",
    "metrics_data = [\n",
    "    max(gs.cv_results_['mean_test_f1_macro']),\n",
    "    max(gs.cv_results_['mean_test_f1_micro']),\n",
    "    max(gs.cv_results_['mean_test_accuracy']),\n",
    "    max(gs.cv_results_['mean_test_recall_macro']),\n",
    "    max(gs.cv_results_['mean_test_recall_micro']),\n",
    "    max(gs.cv_results_['mean_test_precision_macro']),\n",
    "    max(gs.cv_results_['mean_test_precision_micro'])\n",
    "]\n",
    "\n",
    "plt.figure(figsize=(10,7))\n",
    "plt.title(\"Metricas de desempenho\")\n",
    "sns.barplot(y=metrics_labels, x=metrics_data, orient='h', saturation=0.3)\n",
    "plt.plot()\n",
    "\n",
    "print(gs.best_estimator_)"
   ]
  },
  {
   "cell_type": "markdown",
   "metadata": {},
   "source": [
    "#### Processed Data"
   ]
  },
  {
   "cell_type": "code",
   "execution_count": 79,
   "metadata": {},
   "outputs": [
    {
     "name": "stdout",
     "output_type": "stream",
     "text": [
      "SVC(C=10, coef0=0.001, degree=2, kernel='linear', random_state=42)\n"
     ]
    },
    {
     "data": {
      "image/png": "[encoded data removed]",
      "text/plain": [
       "<Figure size 720x504 with 1 Axes>"
      ]
     },
     "metadata": {
      "needs_background": "light"
     },
     "output_type": "display_data"
    }
   ],
   "source": [
    "parameters = {\n",
    "    'C': [0.001, 0.01, 1, 10],\n",
    "    'kernel': ['linear','poly', 'sigmoid'],\n",
    "    'degree': [2, 3, 4],\n",
    "    'coef0': [0.001, 0, 1],\n",
    "    'random_state': [42]\n",
    "}\n",
    "\n",
    "svc = SVC()\n",
    "gs = GridSearchCV(svc, parameters, verbose=1, n_jobs=5, scoring=scoring, refit='f1_micro')\n",
    "\n",
    "gs.fit(x_approved_preprocessed, y_approved)\n",
    "\n",
    "metrics_labels = [\n",
    "    'F1 Macro',\n",
    "    \"F1 Micro\",\n",
    "    \"Acuracia\",\n",
    "    \"Recall Macro\",\n",
    "    \"Recall Micro\",\n",
    "    \"Precision Macro\",\n",
    "    \"Precision Micro\"\n",
    "]\n",
    "\n",
    "metrics_data = [\n",
    "    max(gs.cv_results_['mean_test_f1_macro']),\n",
    "    max(gs.cv_results_['mean_test_f1_micro']),\n",
    "    max(gs.cv_results_['mean_test_accuracy']),\n",
    "    max(gs.cv_results_['mean_test_recall_macro']),\n",
    "    max(gs.cv_results_['mean_test_recall_micro']),\n",
    "    max(gs.cv_results_['mean_test_precision_macro']),\n",
    "    max(gs.cv_results_['mean_test_precision_micro'])\n",
    "]\n",
    "\n",
    "plt.figure(figsize=(10,7))\n",
    "plt.title(\"Metricas de desempenho\")\n",
    "sns.barplot(y=metrics_labels, x=metrics_data, orient='h', saturation=0.3)\n",
    "plt.plot()\n",
    "\n",
    "print(gs.best_estimator_)"
   ]
  },
  {
   "cell_type": "markdown",
   "metadata": {},
   "source": [
    "### NB"
   ]
  },
  {
   "cell_type": "markdown",
   "metadata": {},
   "source": [
    "#### Raw Data"
   ]
  },
  {
   "cell_type": "code",
   "execution_count": 81,
   "metadata": {},
   "outputs": [
    {
     "name": "stdout",
     "output_type": "stream",
     "text": [
      "MultinomialNB(alpha=1e-05)\n"
     ]
    },
    {
     "data": {
      "image/png": "[encoded data removed]",
      "text/plain": [
       "<Figure size 720x504 with 1 Axes>"
      ]
     },
     "metadata": {
      "needs_background": "light"
     },
     "output_type": "display_data"
    }
   ],
   "source": [
    "parameters = {\n",
    "   'alpha':[0.00001, 0.1, 0.0001, 10, 1000, 1, 0.0000001, 500000, 10**(-10)],\n",
    "    'fit_prior': [True, False]\n",
    "}\n",
    "\n",
    "nb = MultinomialNB()\n",
    "gs = GridSearchCV(nb, parameters, n_jobs=5, scoring=scoring, refit='f1_micro')\n",
    "\n",
    "gs.fit(x_approved, y_approved)\n",
    "\n",
    "metrics_labels = [\n",
    "    'F1 Macro',\n",
    "    \"F1 Micro\",\n",
    "    \"Acuracia\",\n",
    "    \"Recall Macro\",\n",
    "    \"Recall Micro\",\n",
    "    \"Precision Macro\",\n",
    "    \"Precision Micro\"\n",
    "]\n",
    "\n",
    "metrics_data = [\n",
    "    max(gs.cv_results_['mean_test_f1_macro']),\n",
    "    max(gs.cv_results_['mean_test_f1_micro']),\n",
    "    max(gs.cv_results_['mean_test_accuracy']),\n",
    "    max(gs.cv_results_['mean_test_recall_macro']),\n",
    "    max(gs.cv_results_['mean_test_recall_micro']),\n",
    "    max(gs.cv_results_['mean_test_precision_macro']),\n",
    "    max(gs.cv_results_['mean_test_precision_micro'])\n",
    "]\n",
    "\n",
    "plt.figure(figsize=(10,7))\n",
    "plt.title(\"Metricas de desempenho\")\n",
    "sns.barplot(y=metrics_labels, x=metrics_data, orient='h', saturation=0.3)\n",
    "plt.plot()\n",
    "\n",
    "print(gs.best_estimator_)"
   ]
  },
  {
   "cell_type": "markdown",
   "metadata": {},
   "source": [
    "#### Processed Data"
   ]
  },
  {
   "cell_type": "code",
   "execution_count": 82,
   "metadata": {},
   "outputs": [
    {
     "name": "stdout",
     "output_type": "stream",
     "text": [
      "MultinomialNB(alpha=1e-05)\n"
     ]
    },
    {
     "data": {
      "image/png": "[encoded data removed]",
      "text/plain": [
       "<Figure size 720x504 with 1 Axes>"
      ]
     },
     "metadata": {
      "needs_background": "light"
     },
     "output_type": "display_data"
    }
   ],
   "source": [
    "parameters = {\n",
    "   'alpha':[0.00001, 0.1, 0.0001, 10, 1000, 1, 0.0000001, 500000, 10**(-10)],\n",
    "    'fit_prior': [True, False]\n",
    "}\n",
    "\n",
    "nb = MultinomialNB()\n",
    "gs = GridSearchCV(nb, parameters, n_jobs=5, scoring=scoring, refit='f1_micro')\n",
    "\n",
    "gs.fit(x_approved_preprocessed, y_approved)\n",
    "\n",
    "metrics_labels = [\n",
    "    'F1 Macro',\n",
    "    \"F1 Micro\",\n",
    "    \"Acuracia\",\n",
    "    \"Recall Macro\",\n",
    "    \"Recall Micro\",\n",
    "    \"Precision Macro\",\n",
    "    \"Precision Micro\"\n",
    "]\n",
    "\n",
    "metrics_data = [\n",
    "    max(gs.cv_results_['mean_test_f1_macro']),\n",
    "    max(gs.cv_results_['mean_test_f1_micro']),\n",
    "    max(gs.cv_results_['mean_test_accuracy']),\n",
    "    max(gs.cv_results_['mean_test_recall_macro']),\n",
    "    max(gs.cv_results_['mean_test_recall_micro']),\n",
    "    max(gs.cv_results_['mean_test_precision_macro']),\n",
    "    max(gs.cv_results_['mean_test_precision_micro'])\n",
    "]\n",
    "\n",
    "plt.figure(figsize=(10,7))\n",
    "plt.title(\"Metricas de desempenho\")\n",
    "sns.barplot(y=metrics_labels, x=metrics_data, orient='h', saturation=0.3)\n",
    "plt.plot()\n",
    "\n",
    "print(gs.best_estimator_)"
   ]
  },
  {
   "cell_type": "markdown",
   "metadata": {},
   "source": [
    "### XGB"
   ]
  },
  {
   "cell_type": "markdown",
   "metadata": {},
   "source": [
    "#### Raw Data"
   ]
  },
  {
   "cell_type": "code",
   "execution_count": 83,
   "metadata": {},
   "outputs": [
    {
     "name": "stdout",
     "output_type": "stream",
     "text": [
      "XGBClassifier(max_depth=6, random_state=42, subsample=0.1)\n"
     ]
    },
    {
     "data": {
      "image/png": "[encoded data removed]",
      "text/plain": [
       "<Figure size 720x504 with 1 Axes>"
      ]
     },
     "metadata": {
      "needs_background": "light"
     },
     "output_type": "display_data"
    }
   ],
   "source": [
    "parameters = {\n",
    "    'learning_rate': [0.3, 0.1, 0.15],\n",
    "    'gamma': [0, 100],\n",
    "    'max_depth': [6, 3, 10, 25],\n",
    "    'subsample': [1, 0.5, 0.1],\n",
    "    'scale_pos_weight': [0, 1],\n",
    "    'random_state': [42]\n",
    "}\n",
    "\n",
    "_xgb = xgb.XGBClassifier()\n",
    "gs = GridSearchCV(_xgb, parameters, n_jobs=5, scoring=scoring, refit='f1_micro')\n",
    "\n",
    "gs.fit(x_approved, y_approved)\n",
    "\n",
    "metrics_labels = [\n",
    "    'F1 Macro',\n",
    "    \"F1 Micro\",\n",
    "    \"Acuracia\",\n",
    "    \"Recall Macro\",\n",
    "    \"Recall Micro\",\n",
    "    \"Precision Macro\",\n",
    "    \"Precision Micro\"\n",
    "]\n",
    "\n",
    "metrics_data = [\n",
    "    max(gs.cv_results_['mean_test_f1_macro']),\n",
    "    max(gs.cv_results_['mean_test_f1_micro']),\n",
    "    max(gs.cv_results_['mean_test_accuracy']),\n",
    "    max(gs.cv_results_['mean_test_recall_macro']),\n",
    "    max(gs.cv_results_['mean_test_recall_micro']),\n",
    "    max(gs.cv_results_['mean_test_precision_macro']),\n",
    "    max(gs.cv_results_['mean_test_precision_micro'])\n",
    "]\n",
    "\n",
    "plt.figure(figsize=(10,7))\n",
    "plt.title(\"Metricas de desempenho\")\n",
    "sns.barplot(y=metrics_labels, x=metrics_data, orient='h', saturation=0.3)\n",
    "plt.plot()\n",
    "\n",
    "print(gs.best_estimator_)"
   ]
  },
  {
   "cell_type": "markdown",
   "metadata": {},
   "source": [
    "#### Processed Data"
   ]
  },
  {
   "cell_type": "code",
   "execution_count": 84,
   "metadata": {},
   "outputs": [
    {
     "name": "stdout",
     "output_type": "stream",
     "text": [
      "XGBClassifier(random_state=42, subsample=0.1)\n"
     ]
    },
    {
     "data": {
      "image/png": "[encoded data removed]",
      "text/plain": [
       "<Figure size 720x504 with 1 Axes>"
      ]
     },
     "metadata": {
      "needs_background": "light"
     },
     "output_type": "display_data"
    }
   ],
   "source": [
    "parameters = {\n",
    "    'learning_rate': [0.3, 0.1, 0.15],\n",
    "    'gamma': [0, 100],\n",
    "    'max_depth': [6, 3, 10, 25],\n",
    "    'subsample': [1, 0.5, 0.1],\n",
    "    'scale_pos_weight': [0, 1],\n",
    "    'random_state': [42]\n",
    "}\n",
    "\n",
    "_xgb = xgb.XGBClassifier()\n",
    "gs = GridSearchCV(_xgb, parameters, n_jobs=5, scoring=scoring, refit='f1_micro')\n",
    "\n",
    "gs.fit(x_approved_preprocessed, y_approved)\n",
    "\n",
    "metrics_labels = [\n",
    "    'F1 Macro',\n",
    "    \"F1 Micro\",\n",
    "    \"Acuracia\",\n",
    "    \"Recall Macro\",\n",
    "    \"Recall Micro\",\n",
    "    \"Precision Macro\",\n",
    "    \"Precision Micro\"\n",
    "]\n",
    "\n",
    "metrics_data = [\n",
    "    max(gs.cv_results_['mean_test_f1_macro']),\n",
    "    max(gs.cv_results_['mean_test_f1_micro']),\n",
    "    max(gs.cv_results_['mean_test_accuracy']),\n",
    "    max(gs.cv_results_['mean_test_recall_macro']),\n",
    "    max(gs.cv_results_['mean_test_recall_micro']),\n",
    "    max(gs.cv_results_['mean_test_precision_macro']),\n",
    "    max(gs.cv_results_['mean_test_precision_micro'])\n",
    "]\n",
    "\n",
    "plt.figure(figsize=(10,7))\n",
    "plt.title(\"Metricas de desempenho\")\n",
    "sns.barplot(y=metrics_labels, x=metrics_data, orient='h', saturation=0.3)\n",
    "plt.plot()\n",
    "\n",
    "print(gs.best_estimator_)"
   ]
  },
  {
   "cell_type": "markdown",
   "metadata": {},
   "source": [
    "Podemos inferir que o melhor modelo foi o XGB, o qual obteve resultados semelhantes tanto para os dados processados quanto para os dados brutos. Portanto nosso classificador é o seguinte:"
   ]
  },
  {
   "cell_type": "code",
   "execution_count": 85,
   "metadata": {},
   "outputs": [],
   "source": [
    "_xgb = xgb.XGBClassifier(random_state=42, subsample=0.1)"
   ]
  },
  {
   "cell_type": "markdown",
   "metadata": {},
   "source": [
    "Para analisar as metricas, utilizaremos os dados do XGB treinado com dados brutos, sem processamento"
   ]
  },
  {
   "cell_type": "code",
   "execution_count": 91,
   "metadata": {},
   "outputs": [],
   "source": [
    "gs = GridSearchCV(_xgb, parameters, n_jobs=5, scoring=scoring, refit='f1_micro')\n",
    "\n",
    "gs.fit(x_approved, y_approved)\n",
    "\n",
    "metrics_labels = {\n",
    "    'F1 Macro': max(gs.cv_results_['mean_test_f1_macro']),\n",
    "    \"F1 Micro\": max(gs.cv_results_['mean_test_f1_micro']),\n",
    "    \"Acuracia\": max(gs.cv_results_['mean_test_accuracy']),\n",
    "    \"Recall Macro\": max(gs.cv_results_['mean_test_recall_macro']),\n",
    "    \"Recall Micro\": max(gs.cv_results_['mean_test_recall_micro']),\n",
    "    \"Precision Macro\": max(gs.cv_results_['mean_test_precision_macro']),\n",
    "    \"Precision Micro\": max(gs.cv_results_['mean_test_precision_micro'])\n",
    "}\n"
   ]
  },
  {
   "cell_type": "markdown",
   "metadata": {},
   "source": [
    "## Analise das Métricas - Item 4"
   ]
  },
  {
   "cell_type": "markdown",
   "metadata": {},
   "source": [
    "Vamos comparar tres:\n",
    "\n",
    "* F1-Score Macro\n",
    "* Acuracia\n",
    "* Recall Macro"
   ]
  },
  {
   "cell_type": "code",
   "execution_count": 93,
   "metadata": {},
   "outputs": [
    {
     "name": "stdout",
     "output_type": "stream",
     "text": [
      "0.7200056643841849\n",
      "0.7766666666666666\n",
      "0.7115684100623859\n"
     ]
    }
   ],
   "source": [
    "print(metrics_labels['F1 Macro'])\n",
    "print(metrics_labels['Acuracia'])\n",
    "print(metrics_labels['Recall Macro'])"
   ]
  },
  {
   "cell_type": "markdown",
   "metadata": {},
   "source": [
    "Todas com resultados proximos, mas diferentes. Vamos entender o por que"
   ]
  },
  {
   "cell_type": "markdown",
   "metadata": {},
   "source": [
    "### F1 - Score"
   ]
  },
  {
   "cell_type": "markdown",
   "metadata": {},
   "source": [
    "O escore F é uma media harmonica entre a precisção calculada e a o recall. É uma boa metrica para datasets desbalanceados, pois a maedia harmonica garantirá a participação no calculo todas as classes. Um exemplo classico são os datasets de analise de credito, onde geralmente se tem 99% de class A e 1% class B, se o sistema tiver um overfiting em A, teremos uma acuracia de 99% e um F1-score de aproximadamente 50%."
   ]
  },
  {
   "cell_type": "markdown",
   "metadata": {},
   "source": [
    "### Acuracia"
   ]
  },
  {
   "cell_type": "markdown",
   "metadata": {},
   "source": [
    "Uma das metricas mais simples, é basicamente a taxa de acerto pelo total de dados. É extremamente sensivel a classes desbalanceados, como exemplificado no caso do F1-Score."
   ]
  },
  {
   "cell_type": "markdown",
   "metadata": {},
   "source": [
    "### Recall"
   ]
  },
  {
   "cell_type": "markdown",
   "metadata": {},
   "source": [
    "Define a quantidade de dados positivos de uma classe, em relação a quantidade total de dados naquela classe."
   ]
  },
  {
   "cell_type": "code",
   "execution_count": null,
   "metadata": {},
   "outputs": [],
   "source": []
  }
 ],
 "metadata": {
  "kernelspec": {
   "display_name": "Python 3",
   "language": "python",
   "name": "python3"
  },
  "language_info": {
   "codemirror_mode": {
    "name": "ipython",
    "version": 3
   },
   "file_extension": ".py",
   "mimetype": "text/x-python",
   "name": "python",
   "nbconvert_exporter": "python",
   "pygments_lexer": "ipython3",
   "version": "3.7.6"
  }
 },
 "nbformat": 4,
 "nbformat_minor": 4
}
